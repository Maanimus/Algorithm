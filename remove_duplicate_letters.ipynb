{
 "cells": [
  {
   "cell_type": "markdown",
   "metadata": {},
   "source": [
    "316. Remove Duplicate Letters\n",
    "\n",
    "Given a string s, remove duplicate letters so that every letter appears once and only once. You must make sure your result is the smallest in lexicographical order among all possible results."
   ]
  },
  {
   "cell_type": "code",
   "execution_count": 25,
   "metadata": {},
   "outputs": [],
   "source": [
    "import collections\n",
    "class Solution:\n",
    "    def removeDuplicateLetters(self, s: str) -> str:\n",
    "        counter, seen, stack = collections.Counter(s), set(), []   \n",
    "        for char in s: \n",
    "            counter[char] -= 1\n",
    "        \n",
    "            if char in seen: \n",
    "                continue\n",
    "        \n",
    "            while stack and char < stack[-1] and counter[stack[-1]] >0:\n",
    "                seen.remove(stack.pop())\n",
    "            stack.append(char)\n",
    "            seen.add(char)\n",
    "    \n",
    "        return ''.join(stack)"
   ]
  },
  {
   "cell_type": "markdown",
   "metadata": {},
   "source": [
    "###### Runtime: 57 ms, faster than 25.12% of Python3 online submissions for Remove Duplicate Letters.\n",
    "###### Memory Usage: 14.2 MB, less than 91.28% of Python3 online submissions for Remove Duplicate Letters."
   ]
  },
  {
   "cell_type": "code",
   "execution_count": 1,
   "metadata": {},
   "outputs": [],
   "source": [
    "def rmduplicateletter(s):\n",
    "    for char in sorted(set(s)):\n",
    "        suffix =s[s.index(char):]\n",
    "        \n",
    "        if set(s) == set(suffix):\n",
    "            return char + rmduplicateletter(suffix.replace(char, \"\"))\n",
    "    return ''        "
   ]
  },
  {
   "cell_type": "code",
   "execution_count": null,
   "metadata": {},
   "outputs": [],
   "source": []
  }
 ],
 "metadata": {
  "kernelspec": {
   "display_name": "Python 3",
   "language": "python",
   "name": "python3"
  },
  "language_info": {
   "codemirror_mode": {
    "name": "ipython",
    "version": 3
   },
   "file_extension": ".py",
   "mimetype": "text/x-python",
   "name": "python",
   "nbconvert_exporter": "python",
   "pygments_lexer": "ipython3",
   "version": "3.8.5"
  }
 },
 "nbformat": 4,
 "nbformat_minor": 4
}
